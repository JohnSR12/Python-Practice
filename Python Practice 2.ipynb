{
 "cells": [
  {
   "cell_type": "markdown",
   "id": "037576a1",
   "metadata": {},
   "source": [
    "### 1. In a firm there is an intelligent employee. He said that he will not work on all those days which has factors more than 2. You are given with month and year calculate the no of working days of employee.\n",
    "\n",
    "- Sample Input : May 2016\n",
    "- Sample Output : 11"
   ]
  },
  {
   "cell_type": "code",
   "execution_count": 16,
   "id": "e274a7a9",
   "metadata": {},
   "outputs": [
    {
     "name": "stdout",
     "output_type": "stream",
     "text": [
      "May 2016\n",
      "11\n"
     ]
    }
   ],
   "source": [
    "#1\n",
    "x,y=input().split()\n",
    "dic={\"May\":31,\"June\":30}\n",
    "d=dic[x]   #days\n",
    "f = 2      #factors\n",
    "lst_1 = []\n",
    "lst_2 = []\n",
    "\n",
    "while f<=d:\n",
    "    for j in range (1,d+1):\n",
    "      if((f%j)==0):\n",
    "           lst_1.append(f)\n",
    "    f=f+1\n",
    "\n",
    "for k in range(2,d+1):\n",
    "    if lst_1.count(k)<=2:\n",
    "        lst_2.append(K)\n",
    "print(len(lst_2))"
   ]
  },
  {
   "cell_type": "markdown",
   "id": "0038b629",
   "metadata": {},
   "source": [
    "### 2. Simi is learning about palindromic numbers. Her teacher gave him the task to count all palindromic numbers present in that range.Simi has told you about this and want your help. You design an algorithm in order to help simi.\n",
    "\n",
    "You will be given a number ‘n’ \n",
    "- Sample Input : 5\n",
    "\n",
    "Print the count of all palindromic numbers till ‘n’(inclusive) \n",
    "- Sample Output : 5"
   ]
  },
  {
   "cell_type": "code",
   "execution_count": 18,
   "id": "900a626d",
   "metadata": {},
   "outputs": [
    {
     "name": "stdout",
     "output_type": "stream",
     "text": [
      "5\n",
      "5\n"
     ]
    }
   ],
   "source": [
    "#2\n",
    "\n",
    "n = int(input())\n",
    "count = 0\n",
    "for i in range(1, n+1):\n",
    "    i = str(i)\n",
    "    if i == i[::-1]:\n",
    "        count += 1\n",
    "print(count)"
   ]
  },
  {
   "cell_type": "markdown",
   "id": "03c32c4c",
   "metadata": {},
   "source": [
    "### 3. Given 3 numbers a,b,c print a*b mod c.\n",
    "- INPUT:5 3 2\n",
    "- OUTPUT:1"
   ]
  },
  {
   "cell_type": "code",
   "execution_count": 20,
   "id": "0e374027",
   "metadata": {},
   "outputs": [
    {
     "name": "stdout",
     "output_type": "stream",
     "text": [
      "5 3 2\n",
      "1\n"
     ]
    }
   ],
   "source": [
    "#3\n",
    "a,b,c = map(int,input().split())\n",
    "d = (a*b) % c\n",
    "print(d)"
   ]
  },
  {
   "cell_type": "markdown",
   "id": "a0862cdc",
   "metadata": {},
   "source": [
    "### 4. You are provided with a number ’n’. Your task is to tell whether that number is saturated. A saturated number is a number which is made by exactly two digits.\n",
    "\n",
    "- Sample Input : 121\n",
    "- Sample Output : Saturated"
   ]
  },
  {
   "cell_type": "code",
   "execution_count": 20,
   "id": "a1c64eca",
   "metadata": {},
   "outputs": [
    {
     "name": "stdout",
     "output_type": "stream",
     "text": [
      "121\n",
      "Saturated\n"
     ]
    }
   ],
   "source": [
    "#4\n",
    "a = input()\n",
    "arr = []\n",
    "for i in a:\n",
    "    #print(i)\n",
    "    arr.append(int(i))\n",
    "    \n",
    "c = set(arr)\n",
    "#print(c)\n",
    "\n",
    "if len(c) == 2:\n",
    "    print(\"Saturated\")\n",
    "    \n",
    "else:\n",
    "    print(\"Unsaturated\")"
   ]
  },
  {
   "cell_type": "markdown",
   "id": "f5eda361",
   "metadata": {},
   "source": [
    "### 5. A person saves his monthly saving according to given schema. He saves same amount of money which is equal to the money saved in immediate previous two months. Assume, initially he saved 1000 rupees and in first month he saved another 1000. Your task is to tell how much he had totally saved at the end of ‘n’ months\n",
    "\n",
    "Input Description: You will be given a number ‘n’->No. of months\n",
    "\n",
    "Output Description: Print the total savings at the end of ‘n’ months\n",
    "\n",
    "- Sample Input : 1\n",
    "- Sample Output : 2000"
   ]
  },
  {
   "cell_type": "code",
   "execution_count": 21,
   "id": "9435ee43",
   "metadata": {},
   "outputs": [
    {
     "name": "stdout",
     "output_type": "stream",
     "text": [
      "1\n",
      "2000\n"
     ]
    }
   ],
   "source": [
    "#5\n",
    "n = int(input())\n",
    "sum = 1000\n",
    "pm1 = 1000\n",
    "pm2 = 1000\n",
    "tm = 1000\n",
    "if n > 0:\n",
    "    for i in range(1,n+1):\n",
    "        sum = tm + pm2\n",
    "        tm = pm1 + pm2\n",
    "        pm2 = sum\n",
    "    print(sum)\n",
    "else:\n",
    "    print(sum)"
   ]
  },
  {
   "cell_type": "markdown",
   "id": "ec9347c9",
   "metadata": {},
   "source": [
    "### 6. A boy rolls an unbiased die until he gets ‘1’. You are given a number n. Find the total sum of probability that he will get ‘1’ on or before nth trial.(Probability of getting 1 at 1st trial + probability of getting 1 at 2nd trial….+ probability of getting 1 at nth trial)\n",
    "\n",
    "Constraints: 1<=n<=1000\n",
    "\n",
    "Input Description:\n",
    "You are given a number ‘n’.\n",
    "Output Description:\n",
    "Print two numbers denoting numerator and denominator\n",
    "\n",
    "- Sample Input : 1\n",
    "- Sample Output : 1 6"
   ]
  },
  {
   "cell_type": "markdown",
   "id": "2cc5143e",
   "metadata": {},
   "source": [
    "### What is the probability of a dice randomly landing 6 on a throw"
   ]
  },
  {
   "cell_type": "code",
   "execution_count": 25,
   "id": "26c168d8",
   "metadata": {},
   "outputs": [
    {
     "name": "stdout",
     "output_type": "stream",
     "text": [
      "The probability is 0.148\n"
     ]
    }
   ],
   "source": [
    "import random\n",
    "def prob():\n",
    "    faces = [1,2,3,4,5,6] #all the faces of the cube\n",
    "    \n",
    "    # randomly choose a face using choice function of the random module\n",
    "    topface = random.choice(faces)\n",
    "    #check if face is \"one\"\n",
    "    if topface == 1:\n",
    "        #success\n",
    "        return 1\n",
    "    #failure\n",
    "    return 0\n",
    "\n",
    "# number of iterations\n",
    "n = 1000\n",
    "\n",
    "# counter to keep track of number of times we got \"one\"\n",
    "success = 0\n",
    "\n",
    "for i in range(n):\n",
    "    success = success + prob()\n",
    "    \n",
    "print(f\"The probability is {success/n}\")\n",
    "    "
   ]
  },
  {
   "cell_type": "markdown",
   "id": "220a9537",
   "metadata": {},
   "source": [
    "### 7. Find the minimum among 10 numbers.\n",
    "- INPUT: 5 4 3 2 1 7 6 10 8 9\n",
    "- OUTPUT: 1"
   ]
  },
  {
   "cell_type": "code",
   "execution_count": 26,
   "id": "f3379376",
   "metadata": {},
   "outputs": [
    {
     "name": "stdout",
     "output_type": "stream",
     "text": [
      "5 4 3 2 1 7 6 10 8 9\n",
      "1\n"
     ]
    }
   ],
   "source": [
    "#7\n",
    "n = list(map(int,input().split()))\n",
    "print(min(n))"
   ]
  },
  {
   "cell_type": "markdown",
   "id": "71cb0ef0",
   "metadata": {},
   "source": [
    "### 8. You are given a large number made of only 0’s and 1’s.Your task is to find the max no of consecutive 1’s. If there are no 1’s print -1\n",
    "\n",
    "Input Description:\n",
    "A large number ‘n’\n",
    "\n",
    "Output Description:\n",
    "Print the max no of consecutive 1 in the number\n",
    "\n",
    "- Sample Input : 101011111\n",
    "- Sample Output : 5"
   ]
  },
  {
   "cell_type": "code",
   "execution_count": 16,
   "id": "5dee5824",
   "metadata": {},
   "outputs": [
    {
     "name": "stdout",
     "output_type": "stream",
     "text": [
      "101011111\n",
      "[1, 0, 1, 0, 1, 1, 1, 1, 1]\n",
      "5\n"
     ]
    }
   ],
   "source": [
    "#8\n",
    "def getMaxLength(arr, n):\n",
    "    count = 0\n",
    "    result = -1\n",
    " \n",
    "    for i in range(0, n):\n",
    "     \n",
    "        # Reset count when 0 is found\n",
    "        if (arr[i] == 0):\n",
    "            count = 0\n",
    " \n",
    "        # If 1 is found, increment count\n",
    "        # and update result if count\n",
    "        # becomes more.\n",
    "        else:\n",
    "             \n",
    "            # increase count\n",
    "            count+= 1\n",
    "            result = max(result, count)\n",
    "         \n",
    "    return result\n",
    " \n",
    "# Driver code\n",
    "v = input()\n",
    "arr = list(map(int,list(str(v))))\n",
    "print(arr)\n",
    "n = len(arr)\n",
    " \n",
    "print(getMaxLength(arr, n))"
   ]
  },
  {
   "cell_type": "markdown",
   "id": "a0e22300",
   "metadata": {},
   "source": [
    "### 9. You are given an array of non-negative integers representing height of walls at index i as Ai and the width of each block is 1. Compute how much air can be encapsulated between the walls of chamber.\n",
    "\n",
    "Input Description:\n",
    "Each line contains an integer ‘N’ denoting the size of the array Next line contains N space separated numbers to be stored in array.\n",
    "\n",
    "Output Description:\n",
    "Output the total unit of Air encapsulated between the walls of chamber.\n",
    "\n",
    "- Sample Input :\n",
    "- 3\n",
    "- 7 4 9\n",
    "\n",
    "- Sample Output :\n",
    "- 3"
   ]
  },
  {
   "cell_type": "code",
   "execution_count": 28,
   "id": "95cdfa1a",
   "metadata": {},
   "outputs": [
    {
     "name": "stdout",
     "output_type": "stream",
     "text": [
      "3\n",
      "7 4 9\n",
      "3\n"
     ]
    }
   ],
   "source": [
    "#9\n",
    "n = int(input())\n",
    "arr = list(map(int,input().split()))\n",
    "new = []\n",
    "for i in range(0,n):\n",
    "    for j in range(1,n):\n",
    "        if arr[j] != arr[j+1]:\n",
    "            c = min(arr[j],arr[j+1])\n",
    "            d = arr[i] - c\n",
    "            new.append(d)\n",
    "            break\n",
    "        else:\n",
    "            new.append(0)\n",
    "            break\n",
    "    break\n",
    "print(*new)"
   ]
  },
  {
   "cell_type": "markdown",
   "id": "a567c0cd",
   "metadata": {},
   "source": [
    "### 10. Given a number N, print yes if the number is a multiple of 7 else print no.\n",
    "\n",
    "- INPUT: 49\n",
    "- OUTPUT: yes"
   ]
  },
  {
   "cell_type": "code",
   "execution_count": 29,
   "id": "101e6f8c",
   "metadata": {},
   "outputs": [
    {
     "name": "stdout",
     "output_type": "stream",
     "text": [
      "49\n",
      "yes\n"
     ]
    }
   ],
   "source": [
    "#10\n",
    "n = int(input())\n",
    "if n % 7 == 0:\n",
    "    print(\"yes\")\n",
    "else:\n",
    "    print(\"no\")"
   ]
  },
  {
   "cell_type": "markdown",
   "id": "00f349c3",
   "metadata": {},
   "source": [
    "### 11. In XYZ country there is rule that car’s engine no. depends upon car’ number plate. Engine no is sum of all the integers present on car’s Number plate.The issuing authority has hired you in order to provide engine no. to the cars.Your task is to develop an algorithm which takes input as in form of string(Number plate) and gives back Engine number.\n",
    "\n",
    "Input Description:\n",
    "You are given a string ’s’\n",
    "\n",
    "Output Description:\n",
    "Print the engine number\n",
    "\n",
    "- Sample Input : HR05-AA-2669\n",
    "- Sample Output : 28"
   ]
  },
  {
   "cell_type": "code",
   "execution_count": 30,
   "id": "f0c1d259",
   "metadata": {},
   "outputs": [
    {
     "name": "stdout",
     "output_type": "stream",
     "text": [
      "HR05-AA-2669\n",
      "28\n"
     ]
    }
   ],
   "source": [
    "#11\n",
    "a = input()\n",
    "b = \"\"\n",
    "for i in a:\n",
    "    if i.isdigit():\n",
    "        b = b + i\n",
    "sum = 0\n",
    "for j in b:\n",
    "    sum = sum + int(j)\n",
    "print(sum)"
   ]
  },
  {
   "cell_type": "markdown",
   "id": "f046682d",
   "metadata": {},
   "source": [
    "### 12. Given a number N, print 'yes' if it is a multiple of 13 else print 'no'.\n",
    "- INPUT: 26\n",
    "- OUTPUT: yes"
   ]
  },
  {
   "cell_type": "code",
   "execution_count": 4,
   "id": "4054aff3",
   "metadata": {},
   "outputs": [
    {
     "name": "stdout",
     "output_type": "stream",
     "text": [
      "26\n",
      "yes\n"
     ]
    }
   ],
   "source": [
    "#12\n",
    "n = int(input())\n",
    "if n % 13 == 0:\n",
    "    print(\"yes\")\n",
    "else:\n",
    "    print(\"no\")"
   ]
  },
  {
   "cell_type": "markdown",
   "id": "20e6b4b3",
   "metadata": {},
   "source": [
    "### 13. You are an employee of ‘Rox Travel’ channel.The channel has decided to give allowances to some customer who satisfy these conditions. The conditions are:\n",
    "- The customer should be born on or before july 22 1987\n",
    "- The month of D.O.B month should be of 31 days.\n",
    "- You are given with the D.O.B of all the employees.Your task is to print the employee index who are having chance to avail special offer.\n",
    "\n",
    "Input Description:\n",
    "First line contains the number of employee.Next line contains an array of D.O.B of employees\n",
    "\n",
    "Output Description:\n",
    "Print the employee index (index at 1). Print-1 if there are no such employee\n",
    "\n",
    "- Sample Input :\n",
    "- 4\n",
    "- 23 MARCH 1996 23 MARCH 1986 22 JULY 1987 23 APRIL 1987\n",
    "- Sample Output :\n",
    "- 2 3 4"
   ]
  },
  {
   "cell_type": "code",
   "execution_count": 31,
   "id": "53e98443",
   "metadata": {},
   "outputs": [
    {
     "name": "stdout",
     "output_type": "stream",
     "text": [
      "4\n",
      "23 MARCH 1996 23 MARCH 1986 22 JULY 1987 23 APRIL 1987\n",
      "2 3 4\n"
     ]
    }
   ],
   "source": [
    "n = int(input())\n",
    "l = input().split()\n",
    "a = []\n",
    "k = 0\n",
    "for i in range(n):\n",
    "    b = []\n",
    "    for j in range(3):\n",
    "        b.append(l[k])\n",
    "        k += 1\n",
    "    a.append(b)\n",
    "ans = []\n",
    "flag = False\n",
    "for i in range(len(a)):\n",
    "    if int(a[i][2]) <= 1987:\n",
    "        if int(a[i][2]) == 1987:\n",
    "            if a[i][1] in ('JANUARY', 'FEBRUARY', 'MARCH', 'APRIL', 'MAY', 'JUNE', 'JULY'):\n",
    "                if (a[i][1]) == 'JULY':\n",
    "                    if int(a[i][0]) <= 22:\n",
    "                        ans.append(i+1)\n",
    "                        flag = True\n",
    "                    else:\n",
    "                        continue\n",
    "                else:\n",
    "                    ans.append(i+1)\n",
    "                    flag = True\n",
    "            else:\n",
    "                continue\n",
    "        else:\n",
    "            ans.append(i+1)\n",
    "            flag = True\n",
    "    else:\n",
    "        continue\n",
    "if flag:print(*ans)\n",
    "else:print(-1)"
   ]
  },
  {
   "cell_type": "markdown",
   "id": "c13efb2b",
   "metadata": {},
   "source": [
    "### 14. You are given a number ‘n’. You have to tell whether a number is great or not. A great number is a number whose sum of digits let (m) and product of digits let(j) when summed together gives the number back , m+j=n\n",
    "\n",
    "- Sample Input : 59\n",
    "- Sample Output : Great"
   ]
  },
  {
   "cell_type": "code",
   "execution_count": 32,
   "id": "33acc08e",
   "metadata": {},
   "outputs": [
    {
     "name": "stdout",
     "output_type": "stream",
     "text": [
      "59\n",
      "Great\n"
     ]
    }
   ],
   "source": [
    "#14\n",
    "n = input()\n",
    "lst = list(n)\n",
    "m = 0\n",
    "j = 1\n",
    "for i in lst:\n",
    "    m = m + int(i)\n",
    "for k in lst:\n",
    "    j = j * int(k)\n",
    "#print(m)\n",
    "#print(j)\n",
    "a = m + j\n",
    "#print(a)\n",
    "if a == int(n):\n",
    "    print(\"Great\")\n",
    "else:\n",
    "    print(\"Not\")"
   ]
  },
  {
   "cell_type": "markdown",
   "id": "f49fbb6b",
   "metadata": {},
   "source": [
    "### 15. You are given with a number ‘n’. You have to count the pair of two numbers a and b such that sum of two numbers are equal to n.\n",
    "\n",
    "Note:Both numbers lie in range 1<=a,b<n\n",
    "\n",
    "Input Description:\n",
    "You are given a number ‘n’\n",
    "\n",
    "Output Description:\n",
    "Print the number of pairs satisfying above condition\n",
    "\n",
    "- Sample Input : 5\n",
    "- Sample Output : 4"
   ]
  },
  {
   "cell_type": "code",
   "execution_count": 17,
   "id": "ca6f575a",
   "metadata": {},
   "outputs": [
    {
     "name": "stdout",
     "output_type": "stream",
     "text": [
      "5\n",
      "4\n"
     ]
    }
   ],
   "source": [
    "#15\n",
    "n = int(input())\n",
    "count = 0\n",
    "for a in range(n):\n",
    "    for b in range(n):\n",
    "        if a + b == n:\n",
    "            count = count + 1\n",
    "print(count)"
   ]
  },
  {
   "cell_type": "markdown",
   "id": "38d4f888",
   "metadata": {},
   "source": [
    "### 16. You are given a set of numbers, out of which you have to tell which of them are finest. A finest number ‘n’ is a number which is formed by a number ‘t’ such that , n=t^3+(t+1)^3, t is a natural number\n",
    "\n",
    "Input Description:\n",
    "You are given a number ‘z’ representing total numbers in an array, Next line contains z space separated numbers.\n",
    "\n",
    "Output Description:\n",
    "Print the numbers which are finest in ascending order if there are no such numbers print -1.\n",
    "\n",
    "- Sample Input : \n",
    "- 2\n",
    "- 1729 189\n",
    "\n",
    "- Sample Output :\n",
    "- 189 1729"
   ]
  },
  {
   "cell_type": "code",
   "execution_count": 33,
   "id": "4e62f0d5",
   "metadata": {},
   "outputs": [
    {
     "name": "stdout",
     "output_type": "stream",
     "text": [
      "2\n",
      "1729 189\n",
      "189 1729\n"
     ]
    }
   ],
   "source": [
    "#16\n",
    "z = int(input())\n",
    "arr = list(map(int,input().split()))\n",
    "new = []\n",
    "for i in range(z):\n",
    "    for t in range(1,100):\n",
    "        if arr[i] == t**3 + (t + 1)**3:\n",
    "            new.append(arr[i])\n",
    "new.sort()\n",
    "print(*new)"
   ]
  },
  {
   "cell_type": "markdown",
   "id": "27160d84",
   "metadata": {},
   "source": [
    "### 17. Pk finds it difficult to judge the minimum element in the list of elements given to him. Your task is to develop the algorithm in order to find the minimum element.\n",
    "\n",
    "Note:Don’t use sorting\n",
    "\n",
    "- Sample Input :\n",
    "- 5\n",
    "- 3 4 9 1 6\n",
    "- Sample Output :\n",
    "- 1"
   ]
  },
  {
   "cell_type": "code",
   "execution_count": 34,
   "id": "b2bb2831",
   "metadata": {},
   "outputs": [
    {
     "name": "stdout",
     "output_type": "stream",
     "text": [
      "5\n",
      "3 4 9 1 6\n",
      "1\n"
     ]
    }
   ],
   "source": [
    "#17\n",
    "n = int(input())\n",
    "lst = list(map(int,input().split()))\n",
    "a = lst[0]\n",
    "for i in range(0,n):\n",
    "    if lst[i] < a:\n",
    "        a = lst[i]\n",
    "print(a)"
   ]
  },
  {
   "cell_type": "markdown",
   "id": "5f90d98f",
   "metadata": {},
   "source": [
    "### 18. Given a number N, find the nearest greater multiple of 10.\n",
    "- INPUT:3\n",
    "- OUTPUT:10"
   ]
  },
  {
   "cell_type": "code",
   "execution_count": 35,
   "id": "c45c93e8",
   "metadata": {},
   "outputs": [
    {
     "name": "stdout",
     "output_type": "stream",
     "text": [
      "3\n",
      "10\n"
     ]
    }
   ],
   "source": [
    "#18\n",
    "n = int(input())\n",
    "while n % 10 != 0:\n",
    "    n = n + 1\n",
    "print(n)"
   ]
  },
  {
   "cell_type": "markdown",
   "id": "1622219b",
   "metadata": {},
   "source": [
    "### 19. Given 2 numbers N,M. Print 'yes' if their product is a perfect square else print 'no'.\n",
    "\n",
    "- INPUT: 5 5\n",
    "- OUTPUT: yes"
   ]
  },
  {
   "cell_type": "code",
   "execution_count": 36,
   "id": "fe5063fb",
   "metadata": {},
   "outputs": [
    {
     "name": "stdout",
     "output_type": "stream",
     "text": [
      "5 5\n",
      "yes\n"
     ]
    }
   ],
   "source": [
    "from math import sqrt\n",
    "n,m = map(int,input().split())\n",
    "a = n*m\n",
    "def solve(a):\n",
    "    sq_root = int(sqrt(a))\n",
    "    if (sq_root*sq_root) == a:\n",
    "        print(\"yes\")\n",
    "    else:\n",
    "        print(\"no\")\n",
    "solve(a)"
   ]
  },
  {
   "cell_type": "markdown",
   "id": "0b522a9f",
   "metadata": {},
   "source": [
    "### 20. Assume that you are ticket verifier at a club. Your club has decided to give a special discount to the person(s) who are satisfying the following condition\n",
    "### Condition:- If ticket number is divisible by date of month. You are eligible for a discount.\n",
    "\n",
    "Input Description:\n",
    "First line contains input ‘n’.Next line contains n space separated numbers denoting ticket numbers .Next line contains ‘k’ date of the month.\n",
    "\n",
    "Output Description:\n",
    "Print 1 if the ticket is eligible for discount else 0\n",
    "\n",
    "- Sample Input :\n",
    "- 6\n",
    "- 112 139 165 175 262 130\n",
    "- 22\n",
    "- Sample Output :\n",
    "- 0 0 0 0 0 0"
   ]
  },
  {
   "cell_type": "code",
   "execution_count": 37,
   "id": "5cd99b19",
   "metadata": {},
   "outputs": [
    {
     "name": "stdout",
     "output_type": "stream",
     "text": [
      "6\n",
      "112 139 165 175 262 130\n",
      "22\n",
      "0 0 0 0 0 0\n"
     ]
    }
   ],
   "source": [
    "#20\n",
    "n = int(input())\n",
    "lst = list(map(int,input().split()))\n",
    "final = []\n",
    "k = int(input())\n",
    "a = 1\n",
    "b = 0\n",
    "for i in lst:\n",
    "    if i % k == 0:\n",
    "        final.append(a)\n",
    "    else:\n",
    "        final.append(b)\n",
    "print(*final)"
   ]
  }
 ],
 "metadata": {
  "kernelspec": {
   "display_name": "Python 3",
   "language": "python",
   "name": "python3"
  },
  "language_info": {
   "codemirror_mode": {
    "name": "ipython",
    "version": 3
   },
   "file_extension": ".py",
   "mimetype": "text/x-python",
   "name": "python",
   "nbconvert_exporter": "python",
   "pygments_lexer": "ipython3",
   "version": "3.8.8"
  }
 },
 "nbformat": 4,
 "nbformat_minor": 5
}
