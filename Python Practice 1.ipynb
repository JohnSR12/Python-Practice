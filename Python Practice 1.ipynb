{
 "cells": [
  {
   "cell_type": "markdown",
   "id": "355cf1bd",
   "metadata": {},
   "source": [
    "1. Tom is learning about palindromic numbers. His teacher gave him the task to count all palindromic numbers present in that range.He has told you about this and want your help. You design an algorithm in order to help him.\n",
    "\n",
    "- You will be given a number ‘n’\n",
    "\n",
    "- Print the count of all palindromic numbers till ‘n’(inclusive)\n",
    "\n",
    "- Sample Input :\n",
    "5\n",
    "- Sample Output :\n",
    "5"
   ]
  },
  {
   "cell_type": "code",
   "execution_count": 6,
   "id": "900a626d",
   "metadata": {},
   "outputs": [
    {
     "name": "stdout",
     "output_type": "stream",
     "text": [
      "5\n",
      "5\n"
     ]
    }
   ],
   "source": [
    "n = int(input())\n",
    "count = 0\n",
    "for i in range(1, n+1):\n",
    "    i = str(i)\n",
    "    if i == i[::-1]:\n",
    "        count += 1\n",
    "print(count)"
   ]
  },
  {
   "cell_type": "markdown",
   "id": "c05ad4fc",
   "metadata": {},
   "source": [
    "2. You are provided with a number ’n’. Your task is to tell whether that number is saturated. A saturated number is a number which is made by exactly two digits.\n",
    "\n",
    "- Input Description:\n",
    "You are given with a number n.\n",
    "\n",
    "- Output Description:\n",
    "Print Saturated if it is saturated else it is Unsaturated\n",
    "\n",
    "- Sample Input :\n",
    "121\n",
    "- Sample Output :\n",
    "Saturated"
   ]
  },
  {
   "cell_type": "code",
   "execution_count": 8,
   "id": "a1c64eca",
   "metadata": {},
   "outputs": [
    {
     "name": "stdout",
     "output_type": "stream",
     "text": [
      "121\n",
      "Saturated\n"
     ]
    }
   ],
   "source": [
    "a = input()\n",
    "arr = []\n",
    "for i in a:\n",
    "    #print(i)\n",
    "    arr.append(int(i))\n",
    "    \n",
    "c = set(arr)\n",
    "#print(c)\n",
    "\n",
    "if len(c) == 2:\n",
    "    print(\"Saturated\")\n",
    "    \n",
    "else:\n",
    "    print(\"Unsaturated\")"
   ]
  },
  {
   "cell_type": "markdown",
   "id": "de54318c",
   "metadata": {},
   "source": [
    "3. A person saves his monthly saving according to given schema. He saves same amount of money which is equal to the money saved in immediate previous two months. Assume, initially he saved 1000 rupees and in first month he saved another 1000. Your task is to tell how much he had totally saved at the end of ‘n’ months\n",
    "\n",
    "- Input Description:\n",
    "You will be given a number ‘n’->No. of months\n",
    "\n",
    "- Output Description:\n",
    "Print the total savings at the end of ‘n’ months\n",
    "\n",
    "- Sample Input :\n",
    "1\n",
    "- Sample Output :\n",
    "2000"
   ]
  },
  {
   "cell_type": "code",
   "execution_count": 10,
   "id": "9435ee43",
   "metadata": {},
   "outputs": [
    {
     "name": "stdout",
     "output_type": "stream",
     "text": [
      "1\n",
      "2000\n"
     ]
    }
   ],
   "source": [
    "n = int(input())\n",
    "sum = 1000\n",
    "pm1 = 1000\n",
    "pm2 = 1000\n",
    "tm = 1000\n",
    "if n > 0:\n",
    "    for i in range(1,n+1):\n",
    "        sum = tm + pm2\n",
    "        tm = pm1 + pm2\n",
    "        pm2 = sum\n",
    "    print(sum)\n",
    "else:\n",
    "    print(sum)"
   ]
  },
  {
   "cell_type": "markdown",
   "id": "bb8c24f6",
   "metadata": {},
   "source": [
    "4. Find the minimum among 10 numbers.\n",
    "\n",
    "- INPUT\n",
    "5 4 3 2 1 7 6 10 8 9\n",
    "- OUTPUT\n",
    "1"
   ]
  },
  {
   "cell_type": "code",
   "execution_count": 11,
   "id": "f3379376",
   "metadata": {},
   "outputs": [
    {
     "name": "stdout",
     "output_type": "stream",
     "text": [
      "5 4 3 2 1 7 6 10 8 9 \n",
      "1\n"
     ]
    }
   ],
   "source": [
    "n = list(map(int,input().split()))\n",
    "print(min(n))"
   ]
  },
  {
   "cell_type": "markdown",
   "id": "566c64a9",
   "metadata": {},
   "source": [
    "5. You are given a large number made of only 0’s and 1’s.Your task is to find the max no of consecutive 1’s. If there are no 1’s print -1\n",
    "\n",
    "- Input Description:\n",
    "A large number ‘n’\n",
    "\n",
    "- Output Description:\n",
    "Print the max no of consecutive 1 in the number\n",
    "\n",
    "- Sample Input :\n",
    "101011111\n",
    "- Sample Output :\n",
    "5"
   ]
  },
  {
   "cell_type": "code",
   "execution_count": 16,
   "id": "5dee5824",
   "metadata": {},
   "outputs": [
    {
     "name": "stdout",
     "output_type": "stream",
     "text": [
      "101011111\n",
      "[1, 0, 1, 0, 1, 1, 1, 1, 1]\n",
      "5\n"
     ]
    }
   ],
   "source": [
    "def getMaxLength(arr, n):\n",
    "    count = 0\n",
    "    result = -1\n",
    " \n",
    "    for i in range(0, n):\n",
    "     \n",
    "        # Reset count when 0 is found\n",
    "        if (arr[i] == 0):\n",
    "            count = 0\n",
    " \n",
    "        # If 1 is found, increment count\n",
    "        # and update result if count\n",
    "        # becomes more.\n",
    "        else:\n",
    "             \n",
    "            # increase count\n",
    "            count+= 1\n",
    "            result = max(result, count)\n",
    "         \n",
    "    return result\n",
    " \n",
    "# Driver code\n",
    "v = input()\n",
    "arr = list(map(int,list(str(v))))\n",
    "print(arr)\n",
    "n = len(arr)\n",
    " \n",
    "print(getMaxLength(arr, n))"
   ]
  },
  {
   "cell_type": "markdown",
   "id": "698ebc52",
   "metadata": {},
   "source": [
    "6. You are given an array of non-negative integers representing height of walls at index i as Ai and the width of each block is 1. Compute how much air can be encapsulated between the walls of chamber.\n",
    "\n",
    "- Input Description:\n",
    "Each line contains an integer ‘N’ denoting the size of the array Next line contains N space separated numbers to be stored in array.\n",
    "\n",
    "- Output Description:\n",
    "Output the total unit of Air encapsulated between the walls of chamber.\n",
    "\n",
    "Sample Input :\n",
    "\n",
    "3 \n",
    "\n",
    "7 4 9\n",
    "\n",
    "Sample Output :\n",
    "3"
   ]
  },
  {
   "cell_type": "code",
   "execution_count": 20,
   "id": "95cdfa1a",
   "metadata": {},
   "outputs": [
    {
     "name": "stdout",
     "output_type": "stream",
     "text": [
      "3\n",
      "7 4 9\n",
      "3\n"
     ]
    }
   ],
   "source": [
    "n = int(input())\n",
    "arr = list(map(int,input().split()))\n",
    "new = []\n",
    "for i in range(0,n):\n",
    "    for j in range(1,n):\n",
    "        if arr[j] != arr[j+1]:\n",
    "            c = min(arr[j],arr[j+1])\n",
    "            d = arr[i] - c\n",
    "            new.append(d)\n",
    "            break\n",
    "        else:\n",
    "            new.append(0)\n",
    "            break\n",
    "    break\n",
    "print(*new)"
   ]
  },
  {
   "cell_type": "markdown",
   "id": "0a90668a",
   "metadata": {},
   "source": [
    "7. Given a number N, print yes if the number is a multiple of 7 else print no.\n",
    "- INPUT\n",
    "49\n",
    "- OUTPUT\n",
    "yes"
   ]
  },
  {
   "cell_type": "code",
   "execution_count": 21,
   "id": "101e6f8c",
   "metadata": {},
   "outputs": [
    {
     "name": "stdout",
     "output_type": "stream",
     "text": [
      "49\n",
      "yes\n"
     ]
    }
   ],
   "source": [
    "n = int(input())\n",
    "if n % 7 == 0:\n",
    "    print(\"yes\")\n",
    "else:\n",
    "    print(\"no\")"
   ]
  },
  {
   "cell_type": "markdown",
   "id": "96442648",
   "metadata": {},
   "source": [
    "8. Given a number N, print 'yes' if it is a multiple of 13 else print 'no'.\n",
    "- INPUT\n",
    "26\n",
    "- OUTPUT\n",
    "yes"
   ]
  },
  {
   "cell_type": "code",
   "execution_count": 4,
   "id": "4054aff3",
   "metadata": {},
   "outputs": [
    {
     "name": "stdout",
     "output_type": "stream",
     "text": [
      "26\n",
      "yes\n"
     ]
    }
   ],
   "source": [
    "n = int(input())\n",
    "if n % 13 == 0:\n",
    "    print(\"yes\")\n",
    "else:\n",
    "    print(\"no\")"
   ]
  },
  {
   "cell_type": "markdown",
   "id": "41df76c7",
   "metadata": {},
   "source": [
    "9. You are given a number ‘n’. You have to tell whether a number is great or not. A great number is a number whose sum of digits let (m) and product of digits let(j) when summed together gives the number back : m+j=n\n",
    "\n",
    "- Input Description:\n",
    "You are given a number n;\n",
    "\n",
    "- Output Description:\n",
    "Print Great if a number is great else print the no\n",
    "\n",
    "- Sample Input :\n",
    "59\n",
    "- Sample Output :\n",
    "Great"
   ]
  },
  {
   "cell_type": "code",
   "execution_count": 12,
   "id": "33acc08e",
   "metadata": {},
   "outputs": [
    {
     "name": "stdout",
     "output_type": "stream",
     "text": [
      "59\n",
      "Great\n"
     ]
    }
   ],
   "source": [
    "n = input()\n",
    "lst = list(n)\n",
    "m = 0\n",
    "j = 1\n",
    "for i in lst:\n",
    "    m = m + int(i)\n",
    "for k in lst:\n",
    "    j = j * int(k)\n",
    "a = m + j\n",
    "if a == int(n):\n",
    "    print(\"Great\")\n",
    "else:\n",
    "    print(\"Not\")"
   ]
  },
  {
   "cell_type": "markdown",
   "id": "3153a57b",
   "metadata": {},
   "source": [
    "10. You are given with a number ‘n’. You have to count the pair of two numbers a and b such that sum of two numbers are equal to n.\n",
    "\n",
    "- Note:Both numbers lie in range 1<=a,b<n\n",
    "\n",
    "- Input Description:\n",
    "You are given a number ‘n’\n",
    "\n",
    "- Output Description:\n",
    "Print the number of pairs satisfying above condition\n",
    "\n",
    "- Sample Input :\n",
    "5\n",
    "- Sample Output :\n",
    "4"
   ]
  },
  {
   "cell_type": "code",
   "execution_count": 17,
   "id": "ca6f575a",
   "metadata": {},
   "outputs": [
    {
     "name": "stdout",
     "output_type": "stream",
     "text": [
      "5\n",
      "4\n"
     ]
    }
   ],
   "source": [
    "n = int(input())\n",
    "count = 0\n",
    "for a in range(n):\n",
    "    for b in range(n):\n",
    "        if a + b == n:\n",
    "            count = count + 1\n",
    "print(count)"
   ]
  },
  {
   "cell_type": "markdown",
   "id": "329e7ad9",
   "metadata": {},
   "source": [
    "11. You are given a set of numbers, out of which you have to tell which of them are finest. A finest number ‘n’ is a number which is formed by a number ‘t’ such that : n=t^3+(t+1)^3 , t is a natural number\n",
    "\n",
    "- Input Description:\n",
    "You are given a number ‘z’ representing total numbers in an array, Next line contains z space separated numbers.\n",
    "\n",
    "- Output Description:\n",
    "Print the numbers which are finest in ascending order if there are no such numbers print -1.\n",
    "\n",
    "Sample Input :\n",
    "\n",
    "2\n",
    "\n",
    "1729 189\n",
    "\n",
    "Sample Output :\n",
    "189 1729"
   ]
  },
  {
   "cell_type": "code",
   "execution_count": 13,
   "id": "4e62f0d5",
   "metadata": {},
   "outputs": [
    {
     "name": "stdout",
     "output_type": "stream",
     "text": [
      "2\n",
      "1729 189\n",
      "189 1729\n"
     ]
    }
   ],
   "source": [
    "z = int(input())\n",
    "arr = list(map(int,input().split()))\n",
    "new = []\n",
    "for i in range(z):\n",
    "    for t in range(1,100):\n",
    "        if arr[i] == t**3 + (t + 1)**3:\n",
    "            new.append(arr[i])\n",
    "new.sort()\n",
    "print(*new)"
   ]
  },
  {
   "cell_type": "markdown",
   "id": "5eefa55f",
   "metadata": {},
   "source": [
    "12. Pk finds it difficult to judge the minimum element in the list of elements given to him. Your task is to develop the algorithm in order to find the minimum element.\n",
    "\n",
    "Note:Don’t use sorting\n",
    "- Input Description:\n",
    "You are given ‘n’ number of elements. Next line contains n space separated numbers.\n",
    "\n",
    "- Output Description:\n",
    "Print the minimum element\n",
    "\n",
    "Sample Input :\n",
    "\n",
    "5\n",
    "\n",
    "3 4 9 1 6\n",
    "\n",
    "Sample Output :\n",
    "1"
   ]
  },
  {
   "cell_type": "code",
   "execution_count": 14,
   "id": "b2bb2831",
   "metadata": {},
   "outputs": [
    {
     "name": "stdout",
     "output_type": "stream",
     "text": [
      "5\n",
      "3 4 9 1 6\n",
      "1\n"
     ]
    }
   ],
   "source": [
    "n = int(input())\n",
    "lst = list(map(int,input().split()))\n",
    "a = lst[0]\n",
    "for i in range(0,n):\n",
    "    if lst[i] < a:\n",
    "        a = lst[i]\n",
    "print(a)"
   ]
  },
  {
   "cell_type": "markdown",
   "id": "d6955abb",
   "metadata": {},
   "source": [
    "13. Given a number N, find the nearest greater multiple of 10.\n",
    "- Input Size : N <= 10000\n",
    "- INPUT\n",
    "3\n",
    "- OUTPUT\n",
    "10"
   ]
  },
  {
   "cell_type": "code",
   "execution_count": 15,
   "id": "c45c93e8",
   "metadata": {},
   "outputs": [
    {
     "name": "stdout",
     "output_type": "stream",
     "text": [
      "3\n",
      "10\n"
     ]
    }
   ],
   "source": [
    "n = int(input())\n",
    "while n % 10 != 0:\n",
    "    n = n + 1\n",
    "print(n)"
   ]
  },
  {
   "cell_type": "markdown",
   "id": "351cdc93",
   "metadata": {},
   "source": [
    "14. Assume that you are ticket verifier at a club. Your club has decided to give a special discount to the person(s) who are satisfying the following condition\n",
    "- Condition:-\n",
    "If ticket number is divisible by date of month. You are eligible for a discount.\n",
    "- Input Description:\n",
    "First line contains input ‘n’.Next line contains n space separated numbers denoting ticket numbers. Next line contains ‘k’ date of the month.\n",
    "\n",
    "- Output Description:\n",
    "Print 1 if the ticket is eligible for discount else 0\n",
    "\n",
    "Sample Input :\n",
    "\n",
    "6\n",
    "\n",
    "112 139 165 175 262 130\n",
    "\n",
    "22\n",
    "\n",
    "Sample Output :\n",
    "0 0 0 0 0 0"
   ]
  },
  {
   "cell_type": "code",
   "execution_count": 16,
   "id": "5cd99b19",
   "metadata": {},
   "outputs": [
    {
     "name": "stdout",
     "output_type": "stream",
     "text": [
      "6\n",
      "112 139 165 175 262 130\n",
      "22\n",
      "0 0 0 0 0 0\n"
     ]
    }
   ],
   "source": [
    "n = int(input())\n",
    "lst = list(map(int,input().split()))\n",
    "final = []\n",
    "k = int(input())\n",
    "a = 1\n",
    "b = 0\n",
    "for i in lst:\n",
    "    if i % k == 0:\n",
    "        final.append(a)\n",
    "    else:\n",
    "        final.append(b)\n",
    "print(*final)"
   ]
  },
  {
   "cell_type": "markdown",
   "id": "09d612d6",
   "metadata": {},
   "source": [
    "15. You are given a task to tell whether the number is pure or not. A pure number is a number whose sum of digits is multiple of 3.\n",
    "\n",
    "- Input Description:\n",
    "You are given a number n.\n",
    "\n",
    "- Output Description:\n",
    "Print yes if it is pure else not\n",
    "\n",
    "- Sample Input :\n",
    "13\n",
    "- Sample Output :\n",
    "not"
   ]
  },
  {
   "cell_type": "code",
   "execution_count": 17,
   "id": "f3b28536",
   "metadata": {},
   "outputs": [
    {
     "name": "stdout",
     "output_type": "stream",
     "text": [
      "13\n",
      "no\n"
     ]
    }
   ],
   "source": [
    "n = input()\n",
    "lst = list(n)\n",
    "sum = 0\n",
    "for i in lst:\n",
    "    sum = sum + int(i)\n",
    "if sum % 3 == 0:\n",
    "    print(\"yes\")\n",
    "else:\n",
    "    print(\"no\")"
   ]
  },
  {
   "cell_type": "markdown",
   "id": "95423e08",
   "metadata": {},
   "source": [
    "16. Given a number N, print the odd digits in the number(space seperated) or print -1 if there is no odd digit in the given number.\n",
    "- INPUT:\n",
    "2143\n",
    "- OUTPUT:\n",
    "1 3"
   ]
  },
  {
   "cell_type": "code",
   "execution_count": 18,
   "id": "ee82e2c5",
   "metadata": {},
   "outputs": [
    {
     "name": "stdout",
     "output_type": "stream",
     "text": [
      "2143\n",
      "1 3\n"
     ]
    }
   ],
   "source": [
    "n = input()\n",
    "lst = list(n)\n",
    "odd = []\n",
    "for i in lst:\n",
    "    if int(i) % 2 != 0:\n",
    "        odd.append(i)\n",
    "if len(odd) != 0:\n",
    "    print(*odd)\n",
    "else:\n",
    "    print(-1)"
   ]
  },
  {
   "cell_type": "markdown",
   "id": "3a1b8a5b",
   "metadata": {},
   "source": [
    "17. Assume your brother studies in class 2. He has to  complete his homework on co-primes. As an elder sibling help him in finding whether the given two numbers is co-prime or not.\n",
    "\n",
    "- Input Description:\n",
    "You will be given two numbers ‘n’ and ‘m’\n",
    " \n",
    "- Output Description:\n",
    "Your task is to tell whether numbers is co prime or not. If it is a co-prime print 1 else 0\n",
    "\n",
    "- Sample Input :\n",
    "3 5\n",
    "- Sample Output :\n",
    "1"
   ]
  },
  {
   "cell_type": "code",
   "execution_count": 31,
   "id": "c8c98b20",
   "metadata": {},
   "outputs": [
    {
     "name": "stdout",
     "output_type": "stream",
     "text": [
      "3 5\n",
      "1\n"
     ]
    }
   ],
   "source": [
    "n,m = map(int,input().split())\n",
    "minimum = min(n,m)\n",
    "for i in range(1,minimum+1):\n",
    "    if n % i == 0 and m % i == 0:\n",
    "        HCF = i\n",
    "if HCF == 1:\n",
    "    print(1)\n",
    "else:\n",
    "    print(0)"
   ]
  },
  {
   "cell_type": "markdown",
   "id": "dea68668",
   "metadata": {},
   "source": [
    "18. Shreya is a brilliant girl. She likes to memorize the numbers. These numbers will be shown to her. As an examiner develop an algorithm to test her memory.\n",
    "\n",
    "- CONSTRAINTS:\n",
    "1<=Y,N,T<=1000\n",
    "\n",
    "- Input Description:\n",
    "First line contains no. of test cases(Y). Next line contains a number N. Next line contains n space separated numbers Next line contains a number T denoting the number of questions asked from you regarding the given array. Next line contains T space separated numbers.\n",
    "\n",
    "- Output Description:\n",
    "Print the occurrence of each number if present else “NOT PRESENT”\n",
    "\n",
    "Sample Input :\n",
    "10\n",
    "\n",
    "1 1 1 2 2 2 3 8 9 7\n",
    "\n",
    "5\n",
    "\n",
    "1 2 3 0 5\n",
    "\n",
    "Sample Output :\n",
    "\n",
    "3 3 1 Not Present Not Present"
   ]
  },
  {
   "cell_type": "code",
   "execution_count": 19,
   "id": "d3e6a6d1",
   "metadata": {},
   "outputs": [
    {
     "name": "stdout",
     "output_type": "stream",
     "text": [
      "10\n",
      "1 1 1 2 2 2 3 8 9 7\n",
      "5\n",
      "1 2 3 0 5\n",
      "[3, 3, 1, 0, 0]\n",
      "3 3 1 NOT PRESENT NOT PRESENT\n"
     ]
    }
   ],
   "source": [
    "n1 = int(input())\n",
    "lst1 = list(map(int,input().split()))\n",
    "n2 = int(input())\n",
    "lst2 = list(map(int,input().split()))\n",
    "final = []\n",
    "for i in lst2:\n",
    "    count = 0\n",
    "    for j in lst1:\n",
    "        if i == j:\n",
    "            count = count + 1\n",
    "    final.append(count)\n",
    "print(final)\n",
    "for k in range(0,n2):\n",
    "    if final[k] == 0:\n",
    "        final[k] = \"NOT PRESENT\"\n",
    "print(*final)"
   ]
  },
  {
   "cell_type": "markdown",
   "id": "d5338bcc",
   "metadata": {},
   "source": [
    "19. Given a number N, print the product of the digits.\n",
    "- INPUT:\n",
    "2143\n",
    "- OUTPUT:\n",
    "24"
   ]
  },
  {
   "cell_type": "code",
   "execution_count": 39,
   "id": "851d84fa",
   "metadata": {},
   "outputs": [
    {
     "name": "stdout",
     "output_type": "stream",
     "text": [
      "2143\n",
      "24\n"
     ]
    }
   ],
   "source": [
    "n = input()\n",
    "lst = list(n)\n",
    "prod = 1\n",
    "for i in lst:\n",
    "    prod = prod * int(i)\n",
    "print(prod)"
   ]
  },
  {
   "cell_type": "markdown",
   "id": "141cd381",
   "metadata": {},
   "source": [
    "20. Given a number N, print its factors.\n",
    "- INPUT:\n",
    "6\n",
    "- OUTPUT:\n",
    "1 2 3 6"
   ]
  },
  {
   "cell_type": "code",
   "execution_count": 16,
   "id": "95b2c1d0",
   "metadata": {
    "scrolled": true
   },
   "outputs": [
    {
     "name": "stdout",
     "output_type": "stream",
     "text": [
      "6\n",
      "1 2 3 6\n"
     ]
    }
   ],
   "source": [
    "def factors(n):\n",
    "    for i in range(1,n+1):\n",
    "        if n % i == 0:\n",
    "            arr.append(i)\n",
    "    print(*arr)\n",
    "\n",
    "n = int(input())\n",
    "arr = []\n",
    "factors(n)"
   ]
  }
 ],
 "metadata": {
  "kernelspec": {
   "display_name": "Python 3",
   "language": "python",
   "name": "python3"
  },
  "language_info": {
   "codemirror_mode": {
    "name": "ipython",
    "version": 3
   },
   "file_extension": ".py",
   "mimetype": "text/x-python",
   "name": "python",
   "nbconvert_exporter": "python",
   "pygments_lexer": "ipython3",
   "version": "3.8.8"
  }
 },
 "nbformat": 4,
 "nbformat_minor": 5
}
